{
 "cells": [
  {
   "attachments": {},
   "cell_type": "markdown",
   "metadata": {},
   "source": [
    "**Car Regression**"
   ]
  },
  {
   "cell_type": "code",
   "execution_count": 1,
   "metadata": {},
   "outputs": [
    {
     "data": {
      "text/plain": [
       "<bound method NDFrame.sample of        type  fixed acidity  volatile acidity  citric acid  residual sugar  \\\n",
       "0     white            7.0             0.270         0.36            20.7   \n",
       "1     white            6.3             0.300         0.34             1.6   \n",
       "2     white            8.1             0.280         0.40             6.9   \n",
       "3     white            7.2             0.230         0.32             8.5   \n",
       "4     white            7.2             0.230         0.32             8.5   \n",
       "...     ...            ...               ...          ...             ...   \n",
       "6491    red            6.8             0.620         0.08             1.9   \n",
       "6492    red            6.2             0.600         0.08             2.0   \n",
       "6494    red            6.3             0.510         0.13             2.3   \n",
       "6495    red            5.9             0.645         0.12             2.0   \n",
       "6496    red            6.0             0.310         0.47             3.6   \n",
       "\n",
       "      chlorides  free sulfur dioxide  total sulfur dioxide  density    pH  \\\n",
       "0         0.045                 45.0                 170.0  1.00100  3.00   \n",
       "1         0.049                 14.0                 132.0  0.99400  3.30   \n",
       "2         0.050                 30.0                  97.0  0.99510  3.26   \n",
       "3         0.058                 47.0                 186.0  0.99560  3.19   \n",
       "4         0.058                 47.0                 186.0  0.99560  3.19   \n",
       "...         ...                  ...                   ...      ...   ...   \n",
       "6491      0.068                 28.0                  38.0  0.99651  3.42   \n",
       "6492      0.090                 32.0                  44.0  0.99490  3.45   \n",
       "6494      0.076                 29.0                  40.0  0.99574  3.42   \n",
       "6495      0.075                 32.0                  44.0  0.99547  3.57   \n",
       "6496      0.067                 18.0                  42.0  0.99549  3.39   \n",
       "\n",
       "      sulphates  alcohol  quality  \n",
       "0          0.45      8.8        6  \n",
       "1          0.49      9.5        6  \n",
       "2          0.44     10.1        6  \n",
       "3          0.40      9.9        6  \n",
       "4          0.40      9.9        6  \n",
       "...         ...      ...      ...  \n",
       "6491       0.82      9.5        6  \n",
       "6492       0.58     10.5        5  \n",
       "6494       0.75     11.0        6  \n",
       "6495       0.71     10.2        5  \n",
       "6496       0.66     11.0        6  \n",
       "\n",
       "[6463 rows x 13 columns]>"
      ]
     },
     "execution_count": 1,
     "metadata": {},
     "output_type": "execute_result"
    }
   ],
   "source": [
    "import pandas as pd\n",
    "import numpy as np\n",
    "import seaborn as sb\n",
    "import matplotlib.pyplot as plt\n",
    "\n",
    "df = pd.read_csv('winequalityN.csv')\n",
    "\n",
    "# Drop Rows with NaN Values inplace\n",
    "df.dropna(inplace=True)\n",
    "\n",
    "df.sample"
   ]
  },
  {
   "cell_type": "code",
   "execution_count": 2,
   "metadata": {},
   "outputs": [
    {
     "name": "stdout",
     "output_type": "stream",
     "text": [
      "type                    white\n",
      "fixed acidity             6.3\n",
      "volatile acidity          0.3\n",
      "citric acid              0.34\n",
      "residual sugar            1.6\n",
      "chlorides               0.049\n",
      "free sulfur dioxide      14.0\n",
      "total sulfur dioxide    132.0\n",
      "density                 0.994\n",
      "pH                        3.3\n",
      "sulphates                0.49\n",
      "alcohol                   9.5\n",
      "Name: 1, dtype: object\n"
     ]
    }
   ],
   "source": [
    "#make new dataframe of the important variables\n",
    "import re\n",
    "labels = df['quality'].copy()\n",
    "#print(labels)\n",
    "df2 = df.drop(df.iloc[:, -1:],axis = 1)\n",
    "important_data = df2\n",
    "print(important_data.iloc[1])"
   ]
  },
  {
   "cell_type": "code",
   "execution_count": 3,
   "metadata": {},
   "outputs": [
    {
     "name": "stdout",
     "output_type": "stream",
     "text": [
      "5.818505338078292\n"
     ]
    }
   ],
   "source": [
    "avg = labels.mean()\n",
    "print(avg)"
   ]
  },
  {
   "cell_type": "code",
   "execution_count": 4,
   "metadata": {},
   "outputs": [
    {
     "name": "stdout",
     "output_type": "stream",
     "text": [
      "(4847, 12)\n",
      "(1616, 12)\n",
      "(4847,)\n",
      "(1616,)\n"
     ]
    }
   ],
   "source": [
    "#Split the dataset into chunks train/test\n",
    "from sklearn.model_selection import train_test_split\n",
    "X_train, X_test, y_train, y_test = train_test_split(important_data, labels, test_size=0.25)\n",
    "\n",
    "print(X_train.shape)\n",
    "print(X_test.shape)\n",
    "print(y_train.shape)\n",
    "print(y_test.shape)"
   ]
  },
  {
   "attachments": {},
   "cell_type": "markdown",
   "metadata": {},
   "source": [
    "**One hot encode values**"
   ]
  },
  {
   "cell_type": "code",
   "execution_count": 5,
   "metadata": {},
   "outputs": [],
   "source": [
    "from sklearn.pipeline import Pipeline\n",
    "from sklearn.impute import SimpleImputer\n",
    "from sklearn.preprocessing import StandardScaler, OneHotEncoder\n",
    "from sklearn.compose import ColumnTransformer\n",
    "\n",
    "numeric_features = ['fixed acidity','volatile acidity','citric acid','residual sugar','chlorides','free sulfur dioxide','total sulfur dioxide','density','pH','sulphates','alcohol']\n",
    "numeric_transformer = Pipeline([\n",
    "    ('std_scaler', StandardScaler())\n",
    "])\n",
    "\n",
    "categorical_features = ['type']\n",
    "categorical_transformer = OneHotEncoder(handle_unknown=\"ignore\")\n",
    "\n",
    "preprocessor = ColumnTransformer(\n",
    "    transformers=[\n",
    "        (\"num\", numeric_transformer, numeric_features),\n",
    "        (\"cat\", categorical_transformer, categorical_features)\n",
    "    ]\n",
    ")\n",
    "\n",
    "x_train = preprocessor.fit_transform(X_train)\n",
    "x_test = preprocessor.transform(X_test)"
   ]
  },
  {
   "cell_type": "code",
   "execution_count": 6,
   "metadata": {},
   "outputs": [
    {
     "name": "stdout",
     "output_type": "stream",
     "text": [
      "(4847, 13)\n",
      "(1616, 13)\n"
     ]
    }
   ],
   "source": [
    "print(x_train.shape)\n",
    "print(x_test.shape)"
   ]
  },
  {
   "cell_type": "code",
   "execution_count": 7,
   "metadata": {},
   "outputs": [],
   "source": [
    "#Oldschool standardize\n",
    "mean = y_train.mean()\n",
    "std = y_train.std()\n",
    "\n",
    "y_train -= mean              # use the mean & std\n",
    "y_train /= std \n",
    "y_test -= mean              # use the mean & std\n",
    "y_test /= std "
   ]
  },
  {
   "cell_type": "code",
   "execution_count": 7,
   "metadata": {},
   "outputs": [
    {
     "name": "stdout",
     "output_type": "stream",
     "text": [
      "(4847,)\n",
      "(1616,)\n"
     ]
    }
   ],
   "source": [
    "print(y_train.shape)\n",
    "print(y_test.shape)"
   ]
  },
  {
   "attachments": {},
   "cell_type": "markdown",
   "metadata": {},
   "source": [
    "**Random Forest**"
   ]
  },
  {
   "cell_type": "code",
   "execution_count": 8,
   "metadata": {},
   "outputs": [],
   "source": [
    "from sklearn.ensemble import RandomForestRegressor\n",
    "rf = RandomForestRegressor(n_estimators = 500, max_features =1.0, random_state = 18).fit(x_train, y_train)"
   ]
  },
  {
   "cell_type": "code",
   "execution_count": 9,
   "metadata": {},
   "outputs": [
    {
     "name": "stdout",
     "output_type": "stream",
     "text": [
      "MSE: 0.34401480940594065\n",
      "MAE: 0.17200740470297032\n"
     ]
    }
   ],
   "source": [
    "from sklearn.metrics import mean_squared_error\n",
    "# Predict on test data\n",
    "prediction = rf.predict(x_test)\n",
    "# Compute mean squared error\n",
    "mse = mean_squared_error(prediction, y_test)\n",
    "# Print results\n",
    "print('MSE:',mse)\n",
    "print('MAE:',mse*.5)"
   ]
  },
  {
   "cell_type": "code",
   "execution_count": 10,
   "metadata": {},
   "outputs": [
    {
     "data": {
      "text/plain": [
       "0.5865277567225107"
      ]
     },
     "execution_count": 10,
     "metadata": {},
     "output_type": "execute_result"
    }
   ],
   "source": [
    "forest_predictions = rf.predict(x_test)\n",
    "forest_mse = mean_squared_error(y_test, forest_predictions)\n",
    "forest_rmse = np.sqrt(forest_mse)\n",
    "forest_rmse"
   ]
  },
  {
   "cell_type": "code",
   "execution_count": 11,
   "metadata": {},
   "outputs": [
    {
     "name": "stdout",
     "output_type": "stream",
     "text": [
      "[5.04  5.09  5.688 ... 5.98  5.002 5.58 ]\n"
     ]
    }
   ],
   "source": [
    "print(forest_predictions)"
   ]
  },
  {
   "cell_type": "code",
   "execution_count": 17,
   "metadata": {},
   "outputs": [
    {
     "name": "stdout",
     "output_type": "stream",
     "text": [
      "prediction 5 real: 5\n",
      "prediction 5 real: 6\n",
      "prediction 6 real: 5\n",
      "prediction 6 real: 5\n",
      "prediction 7 real: 8\n",
      "prediction 6 real: 6\n",
      "prediction 5 real: 5\n",
      "prediction 6 real: 6\n",
      "prediction 6 real: 6\n",
      "prediction 6 real: 6\n",
      "prediction 6 real: 6\n",
      "prediction 7 real: 7\n",
      "prediction 5 real: 6\n",
      "prediction 5 real: 5\n",
      "prediction 5 real: 5\n",
      "prediction 6 real: 6\n",
      "prediction 6 real: 6\n",
      "prediction 5 real: 6\n",
      "prediction 5 real: 5\n",
      "prediction 6 real: 6\n",
      "prediction 5 real: 6\n",
      "prediction 5 real: 5\n",
      "prediction 6 real: 8\n",
      "prediction 5 real: 3\n",
      "prediction 7 real: 7\n",
      "prediction 5 real: 5\n",
      "prediction 7 real: 7\n",
      "prediction 6 real: 6\n",
      "prediction 6 real: 6\n",
      "prediction 6 real: 6\n",
      "prediction 5 real: 5\n",
      "prediction 6 real: 6\n",
      "prediction 6 real: 7\n",
      "prediction 5 real: 5\n",
      "prediction 6 real: 5\n",
      "prediction 6 real: 6\n",
      "prediction 6 real: 6\n",
      "prediction 5 real: 5\n",
      "prediction 6 real: 7\n",
      "prediction 6 real: 5\n"
     ]
    }
   ],
   "source": [
    "for i in range (40):\n",
    "    realval = y_test.iloc[i]\n",
    "    print(\"prediction\",round((forest_predictions[i])),\"real:\",realval)"
   ]
  },
  {
   "cell_type": "code",
   "execution_count": 20,
   "metadata": {},
   "outputs": [
    {
     "name": "stdout",
     "output_type": "stream",
     "text": [
      "prediction; 6.1092889878670835\n",
      "label; 6\n",
      "0.7162017500132015\n",
      "0.5129449467219724\n"
     ]
    }
   ],
   "source": [
    "from sklearn.linear_model import LinearRegression\n",
    "lin_reg = LinearRegression()\n",
    "lin_reg.fit(x_train,y_train)\n",
    "\n",
    "linearpreds = lin_reg.predict(x_train)\n",
    "\n",
    "print(\"prediction;\",linearpreds[10])\n",
    "print(\"label;\",y_test.iloc[10])\n",
    "\n",
    "preds = lin_reg.predict(x_test)\n",
    "lin_mse = mean_squared_error(y_test,preds)\n",
    "print(np.sqrt(lin_mse))\n",
    "print(lin_mse)"
   ]
  },
  {
   "cell_type": "code",
   "execution_count": 25,
   "metadata": {},
   "outputs": [
    {
     "name": "stdout",
     "output_type": "stream",
     "text": [
      "0.6695544554455446\n"
     ]
    }
   ],
   "source": [
    "from sklearn.tree import DecisionTreeRegressor\n",
    "\n",
    "tree_reg = DecisionTreeRegressor()\n",
    "tree_reg.fit(x_train,y_train)\n",
    "\n",
    "preds = tree_reg.predict(x_test)\n",
    "tree_mse = mean_squared_error(preds,y_test)\n",
    "print(tree_mse)"
   ]
  },
  {
   "cell_type": "code",
   "execution_count": 27,
   "metadata": {},
   "outputs": [
    {
     "name": "stdout",
     "output_type": "stream",
     "text": [
      "Scores: [0.85795249 0.7732646  0.8686997  0.81985666 0.89211899 0.89672945\n",
      " 0.83850628 0.82697297 0.89188259 0.90681533]\n",
      "Mean 0.8572799071589255\n",
      "STD 0.040350992739978706\n"
     ]
    }
   ],
   "source": [
    "from sklearn.model_selection import cross_val_score\n",
    "\n",
    "cvs = cross_val_score(tree_reg,x_train,y_train,scoring=\"neg_mean_squared_error\",cv=10)\n",
    "\n",
    "tree_rmse_scores = np.sqrt(-cvs)\n",
    "def display_scores(scores):\n",
    "    print(\"Scores:\",scores)\n",
    "    print(\"Mean\",scores.mean())\n",
    "    print(\"STD\",scores.std())\n",
    "\n",
    "display_scores(tree_rmse_scores)"
   ]
  },
  {
   "cell_type": "code",
   "execution_count": 33,
   "metadata": {},
   "outputs": [
    {
     "name": "stdout",
     "output_type": "stream",
     "text": [
      "0.6327352699761896 {'max_features': 13, 'n_estimators': 200}\n",
      "0.6281899448969719 {'max_features': 8, 'n_estimators': 200}\n",
      "0.6442461888365777 {'max_features': 3, 'n_estimators': 20}\n",
      "0.628123708837502 {'max_features': 5, 'n_estimators': 200}\n",
      "0.6478165230113501 {'max_features': 14, 'n_estimators': 20}\n",
      "0.6281899448969719 {'max_features': 8, 'n_estimators': 200}\n",
      "0.6298285946953031 {'max_features': 6, 'n_estimators': 200}\n",
      "0.6327352699761896 {'max_features': 15, 'n_estimators': 200}\n",
      "0.6275333483528395 {'max_features': 4, 'n_estimators': 200}\n",
      "0.6465739747654384 {'max_features': 8, 'n_estimators': 20}\n"
     ]
    }
   ],
   "source": [
    "from sklearn.model_selection import RandomizedSearchCV\n",
    "from scipy.stats import randint\n",
    "\n",
    "param_distribs = {\n",
    "    'n_estimators': [20,200],\n",
    "    'max_features': randint(low=2, high=16),\n",
    "}\n",
    "\n",
    "\n",
    "forest_reg2 = RandomForestRegressor(random_state=12)\n",
    "rnd_search = RandomizedSearchCV(forest_reg2,param_distributions=param_distribs,n_jobs=1,n_iter=10,cv=5\n",
    ",scoring='neg_mean_squared_error',random_state=12)\n",
    "\n",
    "rnd_search.fit(x_train,y_train)\n",
    "\n",
    "ovres = rnd_search.cv_results_\n",
    "for mean_scores,params in zip(ovres[\"mean_test_score\"],ovres[\"params\"]):\n",
    "    print(np.sqrt(-mean_scores), params)\n"
   ]
  },
  {
   "cell_type": "code",
   "execution_count": 31,
   "metadata": {},
   "outputs": [
    {
     "data": {
      "text/html": [
       "<style>#sk-container-id-2 {color: black;background-color: white;}#sk-container-id-2 pre{padding: 0;}#sk-container-id-2 div.sk-toggleable {background-color: white;}#sk-container-id-2 label.sk-toggleable__label {cursor: pointer;display: block;width: 100%;margin-bottom: 0;padding: 0.3em;box-sizing: border-box;text-align: center;}#sk-container-id-2 label.sk-toggleable__label-arrow:before {content: \"▸\";float: left;margin-right: 0.25em;color: #696969;}#sk-container-id-2 label.sk-toggleable__label-arrow:hover:before {color: black;}#sk-container-id-2 div.sk-estimator:hover label.sk-toggleable__label-arrow:before {color: black;}#sk-container-id-2 div.sk-toggleable__content {max-height: 0;max-width: 0;overflow: hidden;text-align: left;background-color: #f0f8ff;}#sk-container-id-2 div.sk-toggleable__content pre {margin: 0.2em;color: black;border-radius: 0.25em;background-color: #f0f8ff;}#sk-container-id-2 input.sk-toggleable__control:checked~div.sk-toggleable__content {max-height: 200px;max-width: 100%;overflow: auto;}#sk-container-id-2 input.sk-toggleable__control:checked~label.sk-toggleable__label-arrow:before {content: \"▾\";}#sk-container-id-2 div.sk-estimator input.sk-toggleable__control:checked~label.sk-toggleable__label {background-color: #d4ebff;}#sk-container-id-2 div.sk-label input.sk-toggleable__control:checked~label.sk-toggleable__label {background-color: #d4ebff;}#sk-container-id-2 input.sk-hidden--visually {border: 0;clip: rect(1px 1px 1px 1px);clip: rect(1px, 1px, 1px, 1px);height: 1px;margin: -1px;overflow: hidden;padding: 0;position: absolute;width: 1px;}#sk-container-id-2 div.sk-estimator {font-family: monospace;background-color: #f0f8ff;border: 1px dotted black;border-radius: 0.25em;box-sizing: border-box;margin-bottom: 0.5em;}#sk-container-id-2 div.sk-estimator:hover {background-color: #d4ebff;}#sk-container-id-2 div.sk-parallel-item::after {content: \"\";width: 100%;border-bottom: 1px solid gray;flex-grow: 1;}#sk-container-id-2 div.sk-label:hover label.sk-toggleable__label {background-color: #d4ebff;}#sk-container-id-2 div.sk-serial::before {content: \"\";position: absolute;border-left: 1px solid gray;box-sizing: border-box;top: 0;bottom: 0;left: 50%;z-index: 0;}#sk-container-id-2 div.sk-serial {display: flex;flex-direction: column;align-items: center;background-color: white;padding-right: 0.2em;padding-left: 0.2em;position: relative;}#sk-container-id-2 div.sk-item {position: relative;z-index: 1;}#sk-container-id-2 div.sk-parallel {display: flex;align-items: stretch;justify-content: center;background-color: white;position: relative;}#sk-container-id-2 div.sk-item::before, #sk-container-id-2 div.sk-parallel-item::before {content: \"\";position: absolute;border-left: 1px solid gray;box-sizing: border-box;top: 0;bottom: 0;left: 50%;z-index: -1;}#sk-container-id-2 div.sk-parallel-item {display: flex;flex-direction: column;z-index: 1;position: relative;background-color: white;}#sk-container-id-2 div.sk-parallel-item:first-child::after {align-self: flex-end;width: 50%;}#sk-container-id-2 div.sk-parallel-item:last-child::after {align-self: flex-start;width: 50%;}#sk-container-id-2 div.sk-parallel-item:only-child::after {width: 0;}#sk-container-id-2 div.sk-dashed-wrapped {border: 1px dashed gray;margin: 0 0.4em 0.5em 0.4em;box-sizing: border-box;padding-bottom: 0.4em;background-color: white;}#sk-container-id-2 div.sk-label label {font-family: monospace;font-weight: bold;display: inline-block;line-height: 1.2em;}#sk-container-id-2 div.sk-label-container {text-align: center;}#sk-container-id-2 div.sk-container {/* jupyter's `normalize.less` sets `[hidden] { display: none; }` but bootstrap.min.css set `[hidden] { display: none !important; }` so we also need the `!important` here to be able to override the default hidden behavior on the sphinx rendered scikit-learn.org. See: https://github.com/scikit-learn/scikit-learn/issues/21755 */display: inline-block !important;position: relative;}#sk-container-id-2 div.sk-text-repr-fallback {display: none;}</style><div id=\"sk-container-id-2\" class=\"sk-top-container\"><div class=\"sk-text-repr-fallback\"><pre>GridSearchCV(cv=5, estimator=KNeighborsRegressor(), n_jobs=-1,\n",
       "             param_grid=[{&#x27;n_neighbors&#x27;: range(1, 7)}], return_train_score=True,\n",
       "             scoring=&#x27;neg_mean_squared_error&#x27;)</pre><b>In a Jupyter environment, please rerun this cell to show the HTML representation or trust the notebook. <br />On GitHub, the HTML representation is unable to render, please try loading this page with nbviewer.org.</b></div><div class=\"sk-container\" hidden><div class=\"sk-item sk-dashed-wrapped\"><div class=\"sk-label-container\"><div class=\"sk-label sk-toggleable\"><input class=\"sk-toggleable__control sk-hidden--visually\" id=\"sk-estimator-id-2\" type=\"checkbox\" ><label for=\"sk-estimator-id-2\" class=\"sk-toggleable__label sk-toggleable__label-arrow\">GridSearchCV</label><div class=\"sk-toggleable__content\"><pre>GridSearchCV(cv=5, estimator=KNeighborsRegressor(), n_jobs=-1,\n",
       "             param_grid=[{&#x27;n_neighbors&#x27;: range(1, 7)}], return_train_score=True,\n",
       "             scoring=&#x27;neg_mean_squared_error&#x27;)</pre></div></div></div><div class=\"sk-parallel\"><div class=\"sk-parallel-item\"><div class=\"sk-item\"><div class=\"sk-label-container\"><div class=\"sk-label sk-toggleable\"><input class=\"sk-toggleable__control sk-hidden--visually\" id=\"sk-estimator-id-3\" type=\"checkbox\" ><label for=\"sk-estimator-id-3\" class=\"sk-toggleable__label sk-toggleable__label-arrow\">estimator: KNeighborsRegressor</label><div class=\"sk-toggleable__content\"><pre>KNeighborsRegressor()</pre></div></div></div><div class=\"sk-serial\"><div class=\"sk-item\"><div class=\"sk-estimator sk-toggleable\"><input class=\"sk-toggleable__control sk-hidden--visually\" id=\"sk-estimator-id-4\" type=\"checkbox\" ><label for=\"sk-estimator-id-4\" class=\"sk-toggleable__label sk-toggleable__label-arrow\">KNeighborsRegressor</label><div class=\"sk-toggleable__content\"><pre>KNeighborsRegressor()</pre></div></div></div></div></div></div></div></div></div></div>"
      ],
      "text/plain": [
       "GridSearchCV(cv=5, estimator=KNeighborsRegressor(), n_jobs=-1,\n",
       "             param_grid=[{'n_neighbors': range(1, 7)}], return_train_score=True,\n",
       "             scoring='neg_mean_squared_error')"
      ]
     },
     "execution_count": 31,
     "metadata": {},
     "output_type": "execute_result"
    }
   ],
   "source": [
    "from sklearn.model_selection import GridSearchCV\n",
    "import sklearn\n",
    "\n",
    "param_grid = [ {'n_neighbors': range(1,7)}]\n",
    "\n",
    "neigh_reg = sklearn.neighbors.KNeighborsRegressor()\n",
    "grid_search = GridSearchCV(neigh_reg,param_grid,cv=5,n_jobs=-1,scoring='neg_mean_squared_error',return_train_score=True)\n",
    "grid_search.fit(x_train,y_train)"
   ]
  }
 ],
 "metadata": {
  "kernelspec": {
   "display_name": "Python 3",
   "language": "python",
   "name": "python3"
  },
  "language_info": {
   "codemirror_mode": {
    "name": "ipython",
    "version": 3
   },
   "file_extension": ".py",
   "mimetype": "text/x-python",
   "name": "python",
   "nbconvert_exporter": "python",
   "pygments_lexer": "ipython3",
   "version": "3.10.2"
  },
  "orig_nbformat": 4,
  "vscode": {
   "interpreter": {
    "hash": "52634da84371cba311ea128a5ea7cdc41ff074b781779e754b270ff9f8153cee"
   }
  }
 },
 "nbformat": 4,
 "nbformat_minor": 2
}
